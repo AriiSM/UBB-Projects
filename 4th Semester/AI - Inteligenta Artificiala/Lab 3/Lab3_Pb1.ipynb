{
 "cells": [
  {
   "cell_type": "code",
   "execution_count": 18,
   "id": "13f0b316-a501-487e-b709-5fc9b76b5de4",
   "metadata": {},
   "outputs": [
    {
     "data": {
      "text/plain": [
       "'\\nEND - Authenticate\\n'"
      ]
     },
     "execution_count": 18,
     "metadata": {},
     "output_type": "execute_result"
    }
   ],
   "source": [
    "from azure.cognitiveservices.vision.computervision import ComputerVisionClient\n",
    "from azure.cognitiveservices.vision.computervision.models import OperationStatusCodes\n",
    "from azure.cognitiveservices.vision.computervision.models import VisualFeatureTypes\n",
    "from msrest.authentication import CognitiveServicesCredentials\n",
    "from azure.ai.vision.imageanalysis import ImageAnalysisClient\n",
    "from azure.ai.vision.imageanalysis.models import VisualFeatures\n",
    "from azure.core.credentials import AzureKeyCredential\n",
    "import matplotlib.pyplot as plt\n",
    "from array import array\n",
    "import os\n",
    "from PIL import Image, ImageDraw\n",
    "import sys\n",
    "import time\n",
    "import os\n",
    "\n",
    "'''\n",
    "Authenticate\n",
    "Authenticates your credentials and creates a client.\n",
    "'''\n",
    "subscription_key = os.environ[\"VISION_KEY\"]\n",
    "endpoint = os.environ[\"VISION_ENDPOINT\"]\n",
    "computervision_client = ComputerVisionClient(endpoint, CognitiveServicesCredentials(subscription_key))\n",
    "'''\n",
    "END - Authenticate\n",
    "'''"
   ]
  },
  {
   "cell_type": "code",
   "execution_count": 19,
   "id": "288ff52a-e0e9-4d02-9e83-b9926f08b8f1",
   "metadata": {},
   "outputs": [
    {
     "name": "stdout",
     "output_type": "stream",
     "text": [
      "\n",
      "Text:\n",
      "  Succes in rezolvarea\n",
      "    Succes\n",
      "    in\n",
      "    rezolvarea\n",
      "  TEMELOR la\n",
      "    TEMELOR\n",
      "    la\n",
      "  LABORA toarele de\n",
      "    LABORA\n",
      "    toarele\n",
      "    de\n",
      "  Inteligentà Artificialà!\n",
      "    Inteligentà\n",
      "    Artificialà!\n",
      "Succes in rezolvarea TEMELOR la LABORA toarele de Inteligentà Artificialà! \n"
     ]
    }
   ],
   "source": [
    " # Authenticate Azure AI Vision client\n",
    " cv_client = ImageAnalysisClient(\n",
    "     endpoint=endpoint,\n",
    "     credential=AzureKeyCredential(subscription_key)\n",
    " )\n",
    "\n",
    "with open(\"D:/FACULTATE/SEM4/AI/Lab3/test2.jpeg\", \"rb\") as image_file:\n",
    "    image_data = image_file.read()\n",
    "\n",
    "result = cv_client.analyze(\n",
    "     image_data=image_data,\n",
    "     visual_features=[VisualFeatures.READ]\n",
    " )\n",
    "\n",
    "resultRead = \"\"\n",
    "if result.read is not None:\n",
    "     print(\"\\nText:\")\n",
    "\n",
    "     # Prepare image for drawing\n",
    "     image = Image.open(\"D:/FACULTATE/SEM4/AI/Lab3/test2.jpeg\")\n",
    "\n",
    "     for line in result.read.blocks[0].lines:\n",
    "         # Return the text detected in the image\n",
    "         print(f\"  {line.text}\")    \n",
    "         resultRead += str(line.text)+\" \"\n",
    " \n",
    "         for word in line.words:\n",
    "             print(f\"    {word.text}\")\n",
    "          \n",
    "     print(resultRead)"
   ]
  },
  {
   "cell_type": "code",
   "execution_count": 54,
   "id": "1cafce14-5c13-47bc-b21f-cd92a6756175",
   "metadata": {},
   "outputs": [],
   "source": [
    "#1. calitatea procesului de recunoastere a textului, atat la nivel de caracter, cat si la nivel de cuvant\n",
    "#a. prin folosirea unei metrici de distanta sau\n",
    "#b. prin folosirea mai multor metrici de distanta."
   ]
  },
  {
   "cell_type": "code",
   "execution_count": 20,
   "id": "7998ddfb-5b44-402a-85c6-dd20cfa901b9",
   "metadata": {},
   "outputs": [
    {
     "name": "stdout",
     "output_type": "stream",
     "text": [
      "Succes in rezolvarea TEMELOR la LABORA toarele de Inteligentà Artificialà! \n",
      "['Succes', 'in', 'rezolvarea', 'TEMELOR', 'la', 'LABORA toarele', 'de', 'Inteligentà', 'Artificialà!']\n",
      "Succes in rezolvarea TEMELOR la LABORA toarele de Inteligentà Artificialà!\n"
     ]
    }
   ],
   "source": [
    "print(resultRead)\n",
    "result_cuvinte_FP = resultRead.split()\n",
    "result_cuvinte = resultRead.split()\n",
    "del result_cuvinte[5]\n",
    "del result_cuvinte[5]\n",
    "result_cuvinte.insert(5,\"LABORA toarele\")\n",
    "print(result_cuvinte)\n",
    "result_cuvinteCP = \" \".join(result_cuvinte)\n",
    "print(result_cuvinteCP)"
   ]
  },
  {
   "cell_type": "code",
   "execution_count": 21,
   "id": "501b6045-1d60-4636-ad9b-de078e987a97",
   "metadata": {},
   "outputs": [
    {
     "name": "stdout",
     "output_type": "stream",
     "text": [
      "a. prin folosirea unei metrici de distanta\n",
      "\n",
      "Inainte de prelucrarea output:\n",
      "Prin Levenshtein cuvinte [0, 1, 0, 1, 0, 7, 6, 10, 10]\n",
      "Prin Levenshtein caracter 7\n",
      "Dupa prelucrarea output:\n",
      "Prin Levenshtein cuvinte [0, 1, 0, 1, 0, 1, 0, 2, 1]\n",
      "Prin Levenshtein caracter 7\n"
     ]
    }
   ],
   "source": [
    "import Levenshtein\n",
    "resultat_asteptat = \"Succes în rezolvarea tEMELOR la LABORAtoarele de Inteligență Artificială!\"\n",
    "resultat_asteptat_cuvinte = resultat_asteptat.split()\n",
    "\n",
    "cuvant_distantaFP = [Levenshtein.distance(cuvant_asteptat, cuvant_de_recunoscut) for cuvant_asteptat, cuvant_de_recunoscut in zip(resultat_asteptat_cuvinte, result_cuvinte_FP)]\n",
    "cuvant_distanta = [Levenshtein.distance(cuvant_asteptat, cuvant_de_recunoscut) for cuvant_asteptat, cuvant_de_recunoscut in zip(resultat_asteptat_cuvinte, result_cuvinte)]  \n",
    "nivel_caracter = Levenshtein.distance(resultat_asteptat, resultRead)\n",
    "\n",
    "\n",
    "print(\"a. prin folosirea unei metrici de distanta\")\n",
    "print()\n",
    "print(\"Inainte de prelucrarea output:\")\n",
    "print(\"Prin Levenshtein cuvinte\",cuvant_distantaFP)\n",
    "print(\"Prin Levenshtein caracter\",nivel_caracter)\n",
    "print(\"Dupa prelucrarea output:\")\n",
    "print(\"Prin Levenshtein cuvinte\",cuvant_distanta)\n",
    "print(\"Prin Levenshtein caracter\",nivel_caracter)"
   ]
  },
  {
   "cell_type": "code",
   "execution_count": 22,
   "id": "60b6da95-a7f5-4e46-90eb-80d1f7aa98ee",
   "metadata": {},
   "outputs": [
    {
     "name": "stdout",
     "output_type": "stream",
     "text": [
      "b. prin folosirea mai multor metrici de distanta.\n",
      "\n",
      "Rezultat asteptat\n",
      "Succes în rezolvarea tEMELOR la LABORAtoarele de Inteligență Artificială!\n",
      "Rezultat generat\n",
      "Succes in rezolvarea TEMELOR la LABORA toarele de Inteligentà Artificialà!\n",
      "Prin Hamming cuvinte 37\n",
      "Prin Hamming caracter 37\n"
     ]
    }
   ],
   "source": [
    "print(\"b. prin folosirea mai multor metrici de distanta.\")\n",
    "print()\n",
    "distanta_cuvinte = 0\n",
    "for i in range(len(resultat_asteptat)):\n",
    "        # Incrementăm distanța dacă caracterele de pe aceeași poziție sunt diferite\n",
    "    if result_cuvinteCP[i] != resultat_asteptat[i]:\n",
    "            distanta_cuvinte += 1\n",
    "\n",
    "distanta_caracter = 0\n",
    "for linie_gen, linie_asteptata in zip(result_cuvinteCP, resultat_asteptat):\n",
    "    for car_gen, car_asteptat in zip(linie_gen, linie_asteptata):\n",
    "        distanta_caracter += car_gen != car_asteptat\n",
    "        \n",
    "print(\"Rezultat asteptat\")\n",
    "print(resultat_asteptat)\n",
    "print(\"Rezultat generat\")\n",
    "print(result_cuvinteCP)\n",
    "print(\"Prin Hamming cuvinte\",distanta_cuvinte)\n",
    "print(\"Prin Hamming caracter\",distanta_caracter)"
   ]
  },
  {
   "cell_type": "code",
   "execution_count": 27,
   "id": "4f4a5740-2fac-41ce-8857-ba5b0c5c7381",
   "metadata": {},
   "outputs": [
    {
     "name": "stdout",
     "output_type": "stream",
     "text": [
      "Rezultat asteptat\n",
      "Succes în rezolvarea tEMELOR la LABORAtoarele de Inteligență Artificială!\n",
      "Rezultat generat\n",
      "Succes in rezolvarea TEMELOR la LABORA toarele de Inteligentà Artificialà! \n",
      "Similaritate Jaro-Winkler  0.9469541393686718\n"
     ]
    }
   ],
   "source": [
    "import jellyfish\n",
    "distanta_jaro_winkler = jellyfish.jaro_winkler_similarity(resultat_asteptat, resultRead)\n",
    "\n",
    "print(\"Rezultat asteptat\")\n",
    "print(resultat_asteptat)\n",
    "print(\"Rezultat generat\")\n",
    "print(resultRead)\n",
    "print(\"Similaritate Jaro-Winkler \",distanta_jaro_winkler)"
   ]
  },
  {
   "cell_type": "code",
   "execution_count": 28,
   "id": "29727324-41d4-407d-a514-f9cce1a125ba",
   "metadata": {},
   "outputs": [
    {
     "name": "stdout",
     "output_type": "stream",
     "text": [
      "Rezultat asteptat\n",
      "Succes în rezolvarea tEMELOR la LABORAtoarele de Inteligență Artificială!\n",
      "Rezultat generat\n",
      "Succes in rezolvarea TEMELOR la LABORA toarele de Inteligentà Artificialà! \n",
      "Nivel Longest common subsequence 1\n"
     ]
    }
   ],
   "source": [
    "n = len(resultRead)\n",
    "m = len(resultat_asteptat)\n",
    "scores = [[0] * m for _ in range(n)]\n",
    "for i in range(n):\n",
    "    for j in range(m):\n",
    "        str1 = resultRead[i]\n",
    "        str2 = resultat_asteptat[j]\n",
    "        if len(str1) != len(str2):\n",
    "            scores[i][j] = float('inf')  # nu se poate calcula distanța Levenshtein\n",
    "        else:\n",
    "            score = sum(Levenshtein.distance(c1, c2) for c1, c2 in zip(str1, str2))\n",
    "            scores[i][j] = score\n",
    "print(\"Rezultat asteptat\")\n",
    "print(resultat_asteptat)\n",
    "print(\"Rezultat generat\")\n",
    "print(resultRead)\n",
    "print(\"Nivel Longest common subsequence\",score)"
   ]
  }
 ],
 "metadata": {
  "kernelspec": {
   "display_name": "Python 3 (ipykernel)",
   "language": "python",
   "name": "python3"
  },
  "language_info": {
   "codemirror_mode": {
    "name": "ipython",
    "version": 3
   },
   "file_extension": ".py",
   "mimetype": "text/x-python",
   "name": "python",
   "nbconvert_exporter": "python",
   "pygments_lexer": "ipython3",
   "version": "3.12.2"
  }
 },
 "nbformat": 4,
 "nbformat_minor": 5
}
