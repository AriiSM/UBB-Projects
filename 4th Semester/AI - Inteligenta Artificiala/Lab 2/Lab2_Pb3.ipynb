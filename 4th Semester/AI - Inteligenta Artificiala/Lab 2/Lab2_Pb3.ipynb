{
 "cells": [
  {
   "cell_type": "code",
   "execution_count": 30,
   "id": "59d6766d-e088-4d06-8ff7-0e64efa85eb5",
   "metadata": {},
   "outputs": [
    {
     "name": "stdout",
     "output_type": "stream",
     "text": [
      "Mesaj de informare: \n",
      "Cursul și laboratoarele de Inteligență Artificială vor fi o \n",
      "provocare pentru toți. Suntem convinși că veți realiza proiecte \n",
      "foarte interesante. Vă încurajăm să adresați întrebări atunci \n",
      "când ceva nu e clar, atât în mod live, cât și folosind platforma \n",
      "Teams, canalul ”general”. \n",
      "Dacă ați citit până aici, vă rugăm să lăsați un mesaj pe canalul \n",
      "general cu textul ”Am citit textul pentru problema 3”. \n",
      "Mesaj de informare generat de ChatGPT:\n",
      "Stimați cursanți,\n",
      "Suntem încântați să vă avem în echipa noastră pentru Cursul și \n",
      "laboratoarele de Inteligență Artificială. Această experiență va \n",
      "fi o adevărată provocare, dar suntem convinși că veți realiza \n",
      "proiecte extrem de interesante.\n",
      "Vă încurajăm să fiți activi și să adresați întrebări atunci când \n",
      "ceva nu este clar. Fie că este vorba de o discuție în timp real \n",
      "sau prin intermediul platformei Teams, canalul ”general”, suntem \n",
      "aici să vă sprijinim.\n",
      "Succes și să înceapă aventura AI!\n",
      "Cu considerație, Echipa de Inteligență Artificială\n"
     ]
    }
   ],
   "source": [
    "#Se da un fisier care contine un text (format din mai multe propozitii) in limba romana - \n",
    "#a se vedea fisierul ”data/texts.txt”. Se cere sa se determine si sa se vizualizeze:\n",
    "\n",
    "file_path = 'D:\\\\\\\\FACULTATE\\\\\\\\SEM4\\\\\\\\AI\\\\\\\\Lab2\\\\\\\\texts.txt'\n",
    "with open(file_path, 'r', encoding='utf-8') as file:\n",
    "    fisier = file.read()\n",
    "print(fisier)"
   ]
  },
  {
   "cell_type": "code",
   "execution_count": 31,
   "id": "fd2febfc-4aed-488b-9e25-722ec08142d3",
   "metadata": {},
   "outputs": [
    {
     "name": "stdout",
     "output_type": "stream",
     "text": [
      "Numarul de propozitii din text:  10\n"
     ]
    }
   ],
   "source": [
    "#a)numarul de propozitii din text;\n",
    "import re\n",
    "text_fara_newline = fisier.replace(\"\\n\", \"\")\n",
    "punctuatii = re.compile(r'[.!?]')\n",
    "punct = punctuatii.split(text_fara_newline)\n",
    "\n",
    "\n",
    "print(\"Numarul de propozitii din text: \",len(punct))"
   ]
  },
  {
   "cell_type": "code",
   "execution_count": 32,
   "id": "6a0a2828-0006-40da-a9f1-28351dad71b8",
   "metadata": {},
   "outputs": [
    {
     "name": "stdout",
     "output_type": "stream",
     "text": [
      "Numarul de cuvinte din text  156\n"
     ]
    }
   ],
   "source": [
    "#b)numarul de cuvinte din text\n",
    "separatori = re.compile(r'[, .!?:\"]')\n",
    "cuvinte = separatori.split(text_fara_newline)\n",
    "rezultat = []\n",
    "for c in cuvinte:\n",
    "    if c != \"\":\n",
    "        rezultat.append(c)\n",
    "\n",
    "print(\"Numarul de cuvinte din text \",len(rezultat))\n",
    "#print(rezultat)"
   ]
  },
  {
   "cell_type": "code",
   "execution_count": 33,
   "id": "33002e85-1ebe-4ec2-bba8-1a915c76e6d0",
   "metadata": {},
   "outputs": [
    {
     "name": "stdout",
     "output_type": "stream",
     "text": [
      "Cuvinte diferite:  95\n"
     ]
    }
   ],
   "source": [
    "#c)numarul de cuvinte diferite din text\n",
    "diferite = set(rezultat)\n",
    "print(\"Cuvinte diferite: \", len(diferite))\n",
    "#print(diferite)"
   ]
  },
  {
   "cell_type": "code",
   "execution_count": 34,
   "id": "0dfb444e-deb0-49ec-858e-8a35cc18b57e",
   "metadata": {},
   "outputs": [
    {
     "name": "stdout",
     "output_type": "stream",
     "text": [
      "Cel mai lung cuvant este:  laboratoarele\n",
      "Cel mai scurt cuvant este:  o\n"
     ]
    }
   ],
   "source": [
    "#d)cel mai scurt si cel mai lung cuvant (cuvinte)\n",
    "cel_mai_lung_cuvant = max(diferite, key=len)\n",
    "cel_mai_scurt_cuvant = min(diferite, key=len)\n",
    "\n",
    "print(\"Cel mai lung cuvant este: \", cel_mai_lung_cuvant)\n",
    "print(\"Cel mai scurt cuvant este: \", cel_mai_scurt_cuvant)"
   ]
  },
  {
   "cell_type": "code",
   "execution_count": 35,
   "id": "e8ea7989-738a-4a6f-b660-db7f0f73afe5",
   "metadata": {},
   "outputs": [
    {
     "name": "stdout",
     "output_type": "stream",
     "text": [
      "Mesaj de informare: \n",
      "Cursul si laboratoarele de Inteligenta Artificiala vor fi o \n",
      "provocare pentru toti. Suntem convinsi ca veti realiza proiecte \n",
      "foarte interesante. Va incurajam sa adresati intrebari atunci \n",
      "cand ceva nu e clar, atat in mod live, cat si folosind platforma \n",
      "Teams, canalul ”general”. \n",
      "Daca ati citit pana aici, va rugam sa lasati un mesaj pe canalul \n",
      "general cu textul ”Am citit textul pentru problema 3”. \n",
      "Mesaj de informare generat de ChatGPT:\n",
      "Stimati cursanti,\n",
      "Suntem incantati sa va avem in echipa noastra pentru Cursul si \n",
      "laboratoarele de Inteligenta Artificiala. Aceasta experienta va \n",
      "fi o adevarata provocare, dar suntem convinsi ca veti realiza \n",
      "proiecte extrem de interesante.\n",
      "Va incurajam sa fiti activi si sa adresati intrebari atunci cand \n",
      "ceva nu este clar. Fie ca este vorba de o discutie in timp real \n",
      "sau prin intermediul platformei Teams, canalul ”general”, suntem \n",
      "aici sa va sprijinim.\n",
      "Succes si sa inceapa aventura AI!\n",
      "Cu consideratie, Echipa de Inteligenta Artificiala\n"
     ]
    }
   ],
   "source": [
    "#e)textul fara diacritice\n",
    "diacritice = [\"ă\", \"î\", \"â\", \"ș\", \"ț\", \"Ă\", \"Î\", \"Â\", \"Ș\", \"Ț\"]\n",
    "conversie = [\"a\", \"i\", \"a\", \"s\", \"t\", \"A\", \"I\", \"A\", \"S\", \"T\"]\n",
    "\n",
    "text_fara_diacritice = \"\"\n",
    "for carac in fisier:\n",
    "    if carac in diacritice:\n",
    "        pozitie = diacritice.index(carac)\n",
    "        carac = conversie[pozitie]\n",
    "        text_fara_diacritice += carac \n",
    "    else:\n",
    "        text_fara_diacritice += carac\n",
    "print(text_fara_diacritice)\n"
   ]
  },
  {
   "cell_type": "code",
   "execution_count": 36,
   "id": "8b9a15bc-7b5a-4d60-a1ce-bc1c01cacf2a",
   "metadata": {},
   "outputs": [
    {
     "name": "stdout",
     "output_type": "stream",
     "text": [
      "synset_ids= ['ENG30-08662570-n', 'ENG30-03629986-n', 'ENG30-03629986-n', 'ENG30-03629986-n', 'ENG30-02815834-n', 'ENG30-03928001-n', 'ENG30-02842008-n', 'ENG30-03013718-n', 'ENG30-03630262-n']\n",
      "SINONIMELE SUNT: \n",
      "['laborator', 'poligon_de_încercare']\n",
      "['laborator', 'laborator_de_cercetare', 'laborator_de_științe']\n",
      "['laborator', 'laborator_de_cercetare', 'laborator_de_științe']\n",
      "['laborator', 'laborator_de_cercetare', 'laborator_de_științe']\n",
      "['pahar_de_laborator']\n",
      "['laborator_de_fizică']\n",
      "['laborator_de_biologie']\n",
      "['laborator_de_chimie']\n",
      "['masă_de_laborator']\n"
     ]
    }
   ],
   "source": [
    "#f)sinonimele celui mai lung cuvant din text\n",
    "from rowordnet import RoWordNet\n",
    "word = \"laborator\"\n",
    "wn = RoWordNet()\n",
    "synset_ids = wn.synsets(literal=word)\n",
    "print(\"synset_ids=\", synset_ids)\n",
    "\n",
    "print(\"SINONIMELE SUNT: \")\n",
    "for i in range(len(synset_ids)):\n",
    "    synset_id = synset_ids[i]\n",
    "    synset_object = wn.synset(synset_id)\n",
    "    print(synset_object.literals)"
   ]
  }
 ],
 "metadata": {
  "kernelspec": {
   "display_name": "Python 3 (ipykernel)",
   "language": "python",
   "name": "python3"
  },
  "language_info": {
   "codemirror_mode": {
    "name": "ipython",
    "version": 3
   },
   "file_extension": ".py",
   "mimetype": "text/x-python",
   "name": "python",
   "nbconvert_exporter": "python",
   "pygments_lexer": "ipython3",
   "version": "3.12.2"
  }
 },
 "nbformat": 4,
 "nbformat_minor": 5
}
