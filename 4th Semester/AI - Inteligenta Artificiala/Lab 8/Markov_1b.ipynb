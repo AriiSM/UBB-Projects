{
 "cells": [
  {
   "cell_type": "markdown",
   "id": "ee4e4f87-4019-44f1-87f2-14aaee37bad3",
   "metadata": {},
   "source": [
    "<h4> Lanturile Markov avand n stari </h4>"
   ]
  },
  {
   "cell_type": "markdown",
   "id": "dad9cfd5-0859-4c9e-a9fa-3726742bcb7a",
   "metadata": {},
   "source": [
    "<h1>Importuri</h1>"
   ]
  },
  {
   "cell_type": "code",
   "execution_count": 38,
   "id": "34ced655-af16-4a61-b47e-f765590459fe",
   "metadata": {},
   "outputs": [],
   "source": [
    "import numpy as np\n",
    "import pandas as pd\n",
    "import os\n",
    "import re\n",
    "import string\n",
    "from nltk.tokenize import word_tokenize\n",
    "from nltk.corpus import stopwords\n",
    "import random"
   ]
  },
  {
   "cell_type": "markdown",
   "id": "dceb0b3e-2022-41a1-8c59-27e5735deb8c",
   "metadata": {},
   "source": [
    "<h1>Citirea datelor</h1>"
   ]
  },
  {
   "cell_type": "code",
   "execution_count": 39,
   "id": "9c0cf402-2ce7-42a9-a97c-3e0fc18e0085",
   "metadata": {},
   "outputs": [
    {
     "name": "stdout",
     "output_type": "stream",
     "text": [
      "Numărul de linii = 330\n"
     ]
    }
   ],
   "source": [
    "def read_all(path):\n",
    "    txt = []\n",
    "    with open(path, 'r', encoding='utf-8') as f:\n",
    "        for line in f:\n",
    "            line = line.strip()\n",
    "            if line == '----------':\n",
    "                break\n",
    "            if line != '':\n",
    "                txt.append(line)\n",
    "    return txt\n",
    "\n",
    "path = \"D:/FACULTATE/SEM4/AI/Lab8/data/proverbe.txt\"\n",
    "stories = read_all(path)\n",
    "print(\"Numărul de linii =\", len(stories))"
   ]
  },
  {
   "cell_type": "markdown",
   "id": "ce072c0c-d277-4e94-b6ae-4e1aee7909fb",
   "metadata": {},
   "source": [
    "<h1>Cleaning DataSet</h1>"
   ]
  },
  {
   "cell_type": "code",
   "execution_count": 40,
   "id": "7312ca15-b0e0-4c80-aa5f-25f294c6a321",
   "metadata": {},
   "outputs": [
    {
     "name": "stdout",
     "output_type": "stream",
     "text": [
      "Numărul de cuvinte = 2211\n",
      "['a', 'aduce', 'apa', 'dupa', 'ce', 'stins', 'focul', 'a', 'aduna', 'nuiele', 'pentru', 'spinarea', 'sa', 'a', 'ajunge', 'cutitul', 'la', 'os', 'a', 'auzit', 'clopotul', 'dar', 'nu', 'stie', 'de', 'la', 'ce', 'biserica', 'a', 'avea', 'ac', 'de', 'cojocul', 'cuiva', 'a', 'avea', 'mai', 'mult', 'noroc', 'decat', 'minte', 'a', 'bate', 'apa', 'in', 'piua', 'a', 'bate', 'calul', 'care']\n"
     ]
    }
   ],
   "source": [
    "def clean_txt(txt):\n",
    "    cleaned_txt = []\n",
    "    for line in txt:\n",
    "        line = line.lower() \n",
    "        \n",
    "        line = re.sub(r\"[,.\\\"\\'!@#$%^&*(){}?/;`~:<>+=-\\\\]\", \"\", line)\n",
    "        \n",
    "        tokens = word_tokenize(line)  # Tokenizam \n",
    "        words = [word for word in tokens if word.isalpha()]  # Alegem doar cuvintele\n",
    "        cleaned_txt.extend(words)  \n",
    "    return cleaned_txt\n",
    "\n",
    "cleaned_stories = clean_txt(stories)\n",
    "print(\"Numărul de cuvinte =\", len(cleaned_stories))\n",
    "print(cleaned_stories[:50])"
   ]
  },
  {
   "cell_type": "markdown",
   "id": "09be594e-635e-43f6-9804-a2f85ba483eb",
   "metadata": {},
   "source": [
    "<h1>Crearea modelului Markov</h1>"
   ]
  },
  {
   "cell_type": "code",
   "execution_count": 41,
   "id": "35dbbe0b-d2f6-4488-b7c2-4ab9b1804393",
   "metadata": {},
   "outputs": [],
   "source": [
    "def make_markov_model(cleaned_stories, n_gram):\n",
    "    markov_model = {}\n",
    "    for i in range(len(cleaned_stories)-n_gram):\n",
    "        curr_state, next_state = \"\", \"\"\n",
    "        for j in range(n_gram):\n",
    "            curr_state += cleaned_stories[i+j] + \" \"\n",
    "            next_state += cleaned_stories[i+j+n_gram] + \" \" if i + j + n_gram < len(cleaned_stories) else \"\"\n",
    "        curr_state = curr_state[:-1]\n",
    "        next_state = next_state[:-1]\n",
    "        if curr_state not in markov_model:\n",
    "            markov_model[curr_state] = {}\n",
    "            markov_model[curr_state][next_state] = 1\n",
    "        else:\n",
    "            if next_state in markov_model[curr_state]:\n",
    "                markov_model[curr_state][next_state] += 1\n",
    "            else:\n",
    "                markov_model[curr_state][next_state] = 1\n",
    "    \n",
    "    # calculating transition probabilities\n",
    "    for curr_state, transition in markov_model.items():\n",
    "        total = sum(transition.values())\n",
    "        for state, count in transition.items():\n",
    "            markov_model[curr_state][state] = count/total\n",
    "        \n",
    "    return markov_model"
   ]
  },
  {
   "cell_type": "code",
   "execution_count": 49,
   "id": "3007745a-69f3-41a3-a2a7-27b8a728ac39",
   "metadata": {},
   "outputs": [],
   "source": [
    "n = 4\n",
    "markov_model = make_markov_model(cleaned_stories, n)"
   ]
  },
  {
   "cell_type": "code",
   "execution_count": 50,
   "id": "c7cc385c-318a-47cb-ab3e-ccb7b4966dd6",
   "metadata": {},
   "outputs": [
    {
     "name": "stdout",
     "output_type": "stream",
     "text": [
      "number of states =  2164\n"
     ]
    }
   ],
   "source": [
    "print(\"number of states = \", len(markov_model.keys()))"
   ]
  },
  {
   "cell_type": "code",
   "execution_count": 51,
   "id": "2ef571c1-d8e4-4307-81de-dd14d26410f2",
   "metadata": {},
   "outputs": [
    {
     "name": "stdout",
     "output_type": "stream",
     "text": [
      "All possible transitions from 'a face' state: \n",
      "\n",
      "{'cu ou si cu': 0.5, 'de doua parale a': 0.5}\n"
     ]
    }
   ],
   "source": [
    "print(\"All possible transitions from 'a face' state: \\n\")\n",
    "print(markov_model['a face pe cineva'])"
   ]
  },
  {
   "cell_type": "markdown",
   "id": "fd8d73fd-3059-4dab-beff-b8a37066e34b",
   "metadata": {},
   "source": [
    "<h1>Generarea de proverbe</h1>"
   ]
  },
  {
   "cell_type": "code",
   "execution_count": 52,
   "id": "45c436f3-8f06-45c4-809a-b7c81b61b73e",
   "metadata": {},
   "outputs": [],
   "source": [
    "def generate_story(markov_model, limit, start):\n",
    "    n = 0\n",
    "    curr_state = start\n",
    "    next_state = None\n",
    "    story = \"\"\n",
    "    story+=curr_state+\" \"\n",
    "    while n<limit:\n",
    "        next_state = random.choices(list(markov_model[curr_state].keys()),\n",
    "                                    list(markov_model[curr_state].values()))\n",
    "        \n",
    "        curr_state = next_state[0]\n",
    "        story+=curr_state+\" \"\n",
    "        n+=1\n",
    "    return story"
   ]
  },
  {
   "cell_type": "markdown",
   "id": "6f603b61-0cc1-4a7f-83b6-ce6370dccc0a",
   "metadata": {},
   "source": [
    "<h1>Utilizare</h1>"
   ]
  },
  {
   "cell_type": "code",
   "execution_count": 53,
   "id": "51d51c66-44dc-442d-b8a7-4f16d1043efb",
   "metadata": {},
   "outputs": [
    {
     "name": "stdout",
     "output_type": "stream",
     "text": [
      "0.  a face pe cineva de doua parale a face treaba in doi peri a face umbra pamantului degeaba a face un bine inseamna a isi bate cuie in talpa a fi cu ochii in patru a \n",
      "1.  a face pe cineva cu ou si cu otet a face pe cineva de doua parale a face treaba in doi peri a face umbra pamantului degeaba a face un bine inseamna a isi bate cuie \n",
      "2.  a face pe cineva cu ou si cu otet a face pe cineva de doua parale a face treaba in doi peri a face umbra pamantului degeaba a face un bine inseamna a isi bate cuie \n",
      "3.  a face pe cineva cu ou si cu otet a face pe cineva de doua parale a face treaba in doi peri a face umbra pamantului degeaba a face un bine inseamna a isi bate cuie \n",
      "4.  a face pe cineva de doua parale a face treaba in doi peri a face umbra pamantului degeaba a face un bine inseamna a isi bate cuie in talpa a fi cu ochii in patru a \n",
      "5.  a face pe cineva de doua parale a face treaba in doi peri a face umbra pamantului degeaba a face un bine inseamna a isi bate cuie in talpa a fi cu ochii in patru a \n",
      "6.  a face pe cineva de doua parale a face treaba in doi peri a face umbra pamantului degeaba a face un bine inseamna a isi bate cuie in talpa a fi cu ochii in patru a \n",
      "7.  a face pe cineva cu ou si cu otet a face pe cineva de doua parale a face treaba in doi peri a face umbra pamantului degeaba a face un bine inseamna a isi bate cuie \n",
      "8.  a face pe cineva de doua parale a face treaba in doi peri a face umbra pamantului degeaba a face un bine inseamna a isi bate cuie in talpa a fi cu ochii in patru a \n",
      "9.  a face pe cineva cu ou si cu otet a face pe cineva de doua parale a face treaba in doi peri a face umbra pamantului degeaba a face un bine inseamna a isi bate cuie \n",
      "10.  a face pe cineva de doua parale a face treaba in doi peri a face umbra pamantului degeaba a face un bine inseamna a isi bate cuie in talpa a fi cu ochii in patru a \n",
      "11.  a face pe cineva cu ou si cu otet a face pe cineva de doua parale a face treaba in doi peri a face umbra pamantului degeaba a face un bine inseamna a isi bate cuie \n",
      "12.  a face pe cineva cu ou si cu otet a face pe cineva de doua parale a face treaba in doi peri a face umbra pamantului degeaba a face un bine inseamna a isi bate cuie \n",
      "13.  a face pe cineva de doua parale a face treaba in doi peri a face umbra pamantului degeaba a face un bine inseamna a isi bate cuie in talpa a fi cu ochii in patru a \n",
      "14.  a face pe cineva de doua parale a face treaba in doi peri a face umbra pamantului degeaba a face un bine inseamna a isi bate cuie in talpa a fi cu ochii in patru a \n",
      "15.  a face pe cineva de doua parale a face treaba in doi peri a face umbra pamantului degeaba a face un bine inseamna a isi bate cuie in talpa a fi cu ochii in patru a \n",
      "16.  a face pe cineva cu ou si cu otet a face pe cineva de doua parale a face treaba in doi peri a face umbra pamantului degeaba a face un bine inseamna a isi bate cuie \n",
      "17.  a face pe cineva de doua parale a face treaba in doi peri a face umbra pamantului degeaba a face un bine inseamna a isi bate cuie in talpa a fi cu ochii in patru a \n",
      "18.  a face pe cineva de doua parale a face treaba in doi peri a face umbra pamantului degeaba a face un bine inseamna a isi bate cuie in talpa a fi cu ochii in patru a \n",
      "19.  a face pe cineva cu ou si cu otet a face pe cineva de doua parale a face treaba in doi peri a face umbra pamantului degeaba a face un bine inseamna a isi bate cuie \n"
     ]
    }
   ],
   "source": [
    "for i in range(20):\n",
    "    print(str(i)+\". \", generate_story(markov_model, 8 ,\"a face pe cineva\"))"
   ]
  }
 ],
 "metadata": {
  "kernelspec": {
   "display_name": "Python 3 (ipykernel)",
   "language": "python",
   "name": "python3"
  },
  "language_info": {
   "codemirror_mode": {
    "name": "ipython",
    "version": 3
   },
   "file_extension": ".py",
   "mimetype": "text/x-python",
   "name": "python",
   "nbconvert_exporter": "python",
   "pygments_lexer": "ipython3",
   "version": "3.12.3"
  }
 },
 "nbformat": 4,
 "nbformat_minor": 5
}
