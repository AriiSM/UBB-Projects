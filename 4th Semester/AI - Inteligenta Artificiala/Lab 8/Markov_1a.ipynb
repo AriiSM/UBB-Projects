{
 "cells": [
  {
   "cell_type": "markdown",
   "id": "ee4e4f87-4019-44f1-87f2-14aaee37bad3",
   "metadata": {},
   "source": [
    "<h4> Lanturile Markov avand 1 stare </h4>"
   ]
  },
  {
   "cell_type": "markdown",
   "id": "dad9cfd5-0859-4c9e-a9fa-3726742bcb7a",
   "metadata": {},
   "source": [
    "<h1>Importuri</h1>"
   ]
  },
  {
   "cell_type": "code",
   "execution_count": 1,
   "id": "34ced655-af16-4a61-b47e-f765590459fe",
   "metadata": {},
   "outputs": [],
   "source": [
    "import numpy as np\n",
    "import pandas as pd\n",
    "import os\n",
    "import re\n",
    "import string\n",
    "from nltk.tokenize import word_tokenize\n",
    "from nltk.corpus import stopwords\n",
    "import random"
   ]
  },
  {
   "cell_type": "markdown",
   "id": "dceb0b3e-2022-41a1-8c59-27e5735deb8c",
   "metadata": {},
   "source": [
    "<h1>Citirea datelor</h1>"
   ]
  },
  {
   "cell_type": "code",
   "execution_count": 2,
   "id": "9c0cf402-2ce7-42a9-a97c-3e0fc18e0085",
   "metadata": {},
   "outputs": [
    {
     "name": "stdout",
     "output_type": "stream",
     "text": [
      "Numărul de linii = 330\n"
     ]
    }
   ],
   "source": [
    "def read_all(path):\n",
    "    txt = []\n",
    "    with open(path, 'r', encoding='utf-8') as f:\n",
    "        for line in f:\n",
    "            line = line.strip()\n",
    "            if line == '----------':\n",
    "                break\n",
    "            if line != '':\n",
    "                txt.append(line)\n",
    "    return txt\n",
    "\n",
    "path = \"D:/FACULTATE/SEM4/AI/Lab8/data/proverbe.txt\"\n",
    "stories = read_all(path)\n",
    "print(\"Numărul de linii =\", len(stories))"
   ]
  },
  {
   "cell_type": "markdown",
   "id": "ce072c0c-d277-4e94-b6ae-4e1aee7909fb",
   "metadata": {},
   "source": [
    "<h1>Cleaning DataSet</h1>"
   ]
  },
  {
   "cell_type": "code",
   "execution_count": 3,
   "id": "7312ca15-b0e0-4c80-aa5f-25f294c6a321",
   "metadata": {},
   "outputs": [
    {
     "name": "stdout",
     "output_type": "stream",
     "text": [
      "Numărul de cuvinte = 2211\n",
      "['a', 'aduce', 'apa', 'dupa', 'ce', 'stins', 'focul', 'a', 'aduna', 'nuiele', 'pentru', 'spinarea', 'sa', 'a', 'ajunge', 'cutitul', 'la', 'os', 'a', 'auzit', 'clopotul', 'dar', 'nu', 'stie', 'de', 'la', 'ce', 'biserica', 'a', 'avea', 'ac', 'de', 'cojocul', 'cuiva', 'a', 'avea', 'mai', 'mult', 'noroc', 'decat', 'minte', 'a', 'bate', 'apa', 'in', 'piua', 'a', 'bate', 'calul', 'care']\n"
     ]
    }
   ],
   "source": [
    "def clean_txt(txt):\n",
    "    cleaned_txt = []\n",
    "    for line in txt:\n",
    "        line = line.lower() \n",
    "        \n",
    "        line = re.sub(r\"[,.\\\"\\'!@#$%^&*(){}?/;`~:<>+=-\\\\]\", \"\", line)\n",
    "        \n",
    "        tokens = word_tokenize(line)  # Tokenizam \n",
    "        words = [word for word in tokens if word.isalpha()]  # Alegem doar cuvintele\n",
    "        cleaned_txt.extend(words)  \n",
    "    return cleaned_txt\n",
    "\n",
    "cleaned_stories = clean_txt(stories)\n",
    "print(\"Numărul de cuvinte =\", len(cleaned_stories))\n",
    "print(cleaned_stories[:50])"
   ]
  },
  {
   "cell_type": "markdown",
   "id": "09be594e-635e-43f6-9804-a2f85ba483eb",
   "metadata": {},
   "source": [
    "<h1>Crearea modelului Markov</h1>"
   ]
  },
  {
   "cell_type": "code",
   "execution_count": 26,
   "id": "35dbbe0b-d2f6-4488-b7c2-4ab9b1804393",
   "metadata": {},
   "outputs": [],
   "source": [
    "def make_markov_model(cleaned_stories, n_gram):\n",
    "    markov_model = {}\n",
    "    for i in range(len(cleaned_stories)-n_gram):\n",
    "        curr_state, next_state = \"\", \"\"\n",
    "        for j in range(n_gram):\n",
    "            curr_state += cleaned_stories[i+j] + \" \"\n",
    "            next_state += cleaned_stories[i+j+n_gram] + \" \" if i + j + n_gram < len(cleaned_stories) else \"\"\n",
    "        curr_state = curr_state[:-1]\n",
    "        next_state = next_state[:-1]\n",
    "        if curr_state not in markov_model:\n",
    "            markov_model[curr_state] = {}\n",
    "            markov_model[curr_state][next_state] = 1\n",
    "        else:\n",
    "            if next_state in markov_model[curr_state]:\n",
    "                markov_model[curr_state][next_state] += 1\n",
    "            else:\n",
    "                markov_model[curr_state][next_state] = 1\n",
    "    \n",
    "    # calculating transition probabilities\n",
    "    for curr_state, transition in markov_model.items():\n",
    "        total = sum(transition.values())\n",
    "        for state, count in transition.items():\n",
    "            markov_model[curr_state][state] = count/total\n",
    "        \n",
    "    return markov_model"
   ]
  },
  {
   "cell_type": "code",
   "execution_count": 27,
   "id": "3007745a-69f3-41a3-a2a7-27b8a728ac39",
   "metadata": {
    "scrolled": true
   },
   "outputs": [],
   "source": [
    "markov_model = make_markov_model(cleaned_stories, 1)"
   ]
  },
  {
   "cell_type": "code",
   "execution_count": 28,
   "id": "c7cc385c-318a-47cb-ab3e-ccb7b4966dd6",
   "metadata": {},
   "outputs": [
    {
     "name": "stdout",
     "output_type": "stream",
     "text": [
      "number of states =  824\n"
     ]
    }
   ],
   "source": [
    "print(\"number of states = \", len(markov_model.keys()))"
   ]
  },
  {
   "cell_type": "code",
   "execution_count": 29,
   "id": "2ef571c1-d8e4-4307-81de-dd14d26410f2",
   "metadata": {},
   "outputs": [
    {
     "name": "stdout",
     "output_type": "stream",
     "text": [
      "All possible transitions from 'the game' state: \n",
      "\n",
      "{'borta': 0.029411764705882353, 'cruce': 0.029411764705882353, 'cuiva': 0.029411764705882353, 'cum': 0.029411764705882353, 'din': 0.058823529411764705, 'ochi': 0.029411764705882353, 'pe': 0.11764705882352941, 'treaba': 0.029411764705882353, 'umbra': 0.029411764705882353, 'un': 0.029411764705882353, 'vara': 0.029411764705882353, 'ce': 0.058823529411764705, 'omul': 0.029411764705882353, 'carte': 0.029411764705882353, 'cine': 0.029411764705882353, 'primavara': 0.029411764705882353, 'rai': 0.029411764705882353, 'doage': 0.029411764705882353, 'obada': 0.029411764705882353, 'calul': 0.029411764705882353, 'ciorba': 0.029411764705882353, 'otetul': 0.029411764705882353, 'gatul': 0.029411764705882353, 'popa': 0.029411764705882353, 'azi': 0.029411764705882353, 'dreapta': 0.029411764705882353, 'roade': 0.029411764705882353, 'haina': 0.029411764705882353, 'sarguinta': 0.029411764705882353}\n"
     ]
    }
   ],
   "source": [
    "print(\"All possible transitions from 'the game' state: \\n\")\n",
    "print(markov_model['face'])"
   ]
  },
  {
   "cell_type": "markdown",
   "id": "fd8d73fd-3059-4dab-beff-b8a37066e34b",
   "metadata": {},
   "source": [
    "<h1>Generarea de proverbe</h1>"
   ]
  },
  {
   "cell_type": "code",
   "execution_count": 34,
   "id": "45c436f3-8f06-45c4-809a-b7c81b61b73e",
   "metadata": {},
   "outputs": [],
   "source": [
    "def generate_story(markov_model, limit, start):\n",
    "    n = 0\n",
    "    curr_state = start\n",
    "    next_state = None\n",
    "    story = \"\"\n",
    "    story+=curr_state+\" \"\n",
    "    while n<limit:\n",
    "        next_state = random.choices(list(markov_model[curr_state].keys()),\n",
    "                                    list(markov_model[curr_state].values()))\n",
    "        \n",
    "        curr_state = next_state[0]\n",
    "        story+=curr_state+\" \"\n",
    "        n+=1\n",
    "    return story"
   ]
  },
  {
   "cell_type": "markdown",
   "id": "6f603b61-0cc1-4a7f-83b6-ce6370dccc0a",
   "metadata": {},
   "source": [
    "<h1>Utilizare</h1>"
   ]
  },
  {
   "cell_type": "code",
   "execution_count": 35,
   "id": "51d51c66-44dc-442d-b8a7-4f16d1043efb",
   "metadata": {},
   "outputs": [
    {
     "name": "stdout",
     "output_type": "stream",
     "text": [
      "0.  face cuiva in capusa ce face doage nici nu \n",
      "1.  face pe dumnezeu ii mult pagubeste lacomia pierde omenia \n",
      "2.  face ce zice hop pana ai ales pana ce \n",
      "3.  face ce naste din cal magar si sapa groapa \n",
      "4.  face ochi nu piere in pravalie cu varza a \n",
      "5.  face rai dati cezarului ce tie nu ai alta \n",
      "6.  face doage nici nu ai carte ai sarit parleazul \n",
      "7.  face sarguinta e mai bun bucatar frate frate dar \n",
      "8.  face roade cine se cunoaste de la roma tot \n",
      "9.  face vara sanie si baba rada baba ce ii \n",
      "10.  face treaba haina nu crede tot raul doamne de \n",
      "11.  face obada de prieteni ca se poate oase roade \n",
      "12.  face un bou cine rade de neghiob rusinosul roade \n",
      "13.  face haina si putin ca musca in gura de \n",
      "14.  face cuiva in tavan a avea ac de multe \n",
      "15.  face din talpa casei nu e un bou cine \n",
      "16.  face ce am avut si ar manca de la \n",
      "17.  face haina pe gard nu vrei sa nu duce \n",
      "18.  face gatul gros lupul la os a face haina \n",
      "19.  face omul sarac nici boii batrani sa se uita \n",
      "20.  face calul mai mult noroc decat haina pe maine \n",
      "21.  face doage nici boii nu iti asterni asa eu \n",
      "22.  face pe foc tinerii inaintea batranilor sa se uita \n",
      "23.  face ce stins focul a face doage nici carne \n",
      "24.  face ochi rade dracul de batran si nu aduce \n",
      "25.  face pe cui scoate cui pe maine ce sa \n",
      "26.  face azi nu ajunga nu iti dori ca sa \n",
      "27.  face carte are lecuire naravul din tantar armasar a \n",
      "28.  face primavara cu capul de cojocul cuiva a face \n",
      "29.  face haina si tacerea e mila de copaci nu \n",
      "30.  face din nastere nu sare departe de roata dupa \n",
      "31.  face ochi cine intreaba nu incearca nici boii batrani \n",
      "32.  face azi un batran sa fii om hotul neprins \n",
      "33.  face cine fura un bou cine are patru ochi \n",
      "34.  face ciorba sufla si cu otet a face cum \n",
      "35.  face dreapta bunul gospodar isi lauda ziua inainte de \n",
      "36.  face calul mai intra soarele la apa marul nu \n",
      "37.  face cine sapa si un bine mai mult alearga \n",
      "38.  face borta in tavan a bate toba in iaurt \n",
      "39.  face umbra pamantului degeaba a face omul cade departe \n"
     ]
    }
   ],
   "source": [
    "for i in range(40):\n",
    "    print(str(i)+\". \", generate_story(markov_model, 8 ,\"face\"))"
   ]
  }
 ],
 "metadata": {
  "kernelspec": {
   "display_name": "Python 3 (ipykernel)",
   "language": "python",
   "name": "python3"
  },
  "language_info": {
   "codemirror_mode": {
    "name": "ipython",
    "version": 3
   },
   "file_extension": ".py",
   "mimetype": "text/x-python",
   "name": "python",
   "nbconvert_exporter": "python",
   "pygments_lexer": "ipython3",
   "version": "3.12.3"
  }
 },
 "nbformat": 4,
 "nbformat_minor": 5
}
