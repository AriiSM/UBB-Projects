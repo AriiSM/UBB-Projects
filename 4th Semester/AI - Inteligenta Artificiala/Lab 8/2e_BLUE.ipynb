{
 "cells": [
  {
   "cell_type": "markdown",
   "id": "5b092d65-ab8f-42d3-843a-f68326a5e2d7",
   "metadata": {},
   "source": [
    "<h4> Calculați metrica BLEU (Bilingual Evaluation Understudy Score) pentru poezia aleasă</h4>"
   ]
  },
  {
   "cell_type": "code",
   "execution_count": 25,
   "id": "1a16d1c0-1732-4f5a-8748-e4a00b2a7cd8",
   "metadata": {},
   "outputs": [],
   "source": [
    "generat = \"with mind she holdere the of heels the his hem with natures it have proved strike me jubileedom my precontract and the your the the devoveat but nature to none learn his the ledges the songin and salons water the frame while the dead or some melodious lay o chauffeurs with numbers long swords and jessie his shoulder roofes forward through the cleft shield he amid the kind hiawatha inicere linger sweet so pensacola in flowing crystal carefully kept her speed then and the mountains head the weight of these he said when both man the though malice so slowly through the the victor ab omni outspreading a calf bit not hiawatha the world the love o chief as firstly for chief menestheus aeneas hopes of with splits with his the rushing and the han or ere night i have walkt forth from gutturis it is a paron wide wings he meant or her inmost bosom hiawatha the mounting upon lie inflamed with loathing with its the propagandist are no not good and sollen me a calmer grew here and florets round to nestor\""
   ]
  },
  {
   "cell_type": "code",
   "execution_count": 26,
   "id": "8ed47c39-9b82-49f4-98be-a93d944b3f97",
   "metadata": {},
   "outputs": [],
   "source": [
    "reference = \"with mind she holds the heels of his hem with natures it has proved to strike me jubilantly my precontract and yours the devoveat but nature learns none his ledges the songin and salons water the frame while the dead or some melodious lay oh chauffeurs with numbers long swords and jessie his shoulder roofes forward through the cleft shield he amid the kind hiawatha inicere lingers sweetly so pensacola in flowing crystal carefully kept her speed then the mountains head the weight of these he said when both man though malice so slowly through the victor ab omni outspreading a calf bit not hiawatha the world the love oh chief as firstly for chief menestheus aeneas hopes of with splits with his rushing and the han or ere night i have walkt forth from gutturis it is a paron with wide wings he meant or her inmost bosom hiawatha the mounting upon lie inflamed with loathing with its the propagandist are not good and sollen me a calmer grew here and florets round to nestor\""
   ]
  },
  {
   "cell_type": "code",
   "execution_count": 27,
   "id": "0de38e85-7baa-4e79-a163-cdd5c9a8b532",
   "metadata": {},
   "outputs": [],
   "source": [
    "import re\n",
    "from nltk.tokenize import word_tokenize\n",
    "\n",
    "def preprocess_text(text):\n",
    "    text = re.sub(r'[^\\w\\s]', '', text)\n",
    "    text = text.lower()\n",
    "    words = text.split()\n",
    "    tokens = word_tokenize(text.lower())\n",
    "    return tokens"
   ]
  },
  {
   "cell_type": "code",
   "execution_count": 28,
   "id": "e8fcb405-e675-4921-9281-ef7efdfadc40",
   "metadata": {},
   "outputs": [
    {
     "name": "stdout",
     "output_type": "stream",
     "text": [
      "['with', 'mind', 'she', 'holdere', 'the', 'of', 'heels', 'the', 'his', 'hem']\n",
      "['with', 'mind', 'she', 'holds', 'the', 'heels', 'of', 'his', 'hem', 'with']\n"
     ]
    }
   ],
   "source": [
    "generat_processed = preprocess_text(generat)\n",
    "reference_processed = preprocess_text(reference)\n",
    "\n",
    "print(generat_processed[:10])\n",
    "print(reference_processed[:10]) "
   ]
  },
  {
   "cell_type": "code",
   "execution_count": 29,
   "id": "c3727524-68bd-47c7-8b39-e125fdd13158",
   "metadata": {},
   "outputs": [
    {
     "name": "stdout",
     "output_type": "stream",
     "text": [
      "Scorul BLEU: 0.0\n"
     ]
    }
   ],
   "source": [
    "from nltk.translate.bleu_score import corpus_bleu\n",
    "import sacrebleu\n",
    "\n",
    "reference_str = \" \".join(reference_processed)\n",
    "generat_str = \" \".join(generat_processed)\n",
    "\n",
    "# Calculăm scorul BLEU între cele două texte\n",
    "bleu = sacrebleu.corpus_bleu(generat_str, [reference_str])\n",
    "print(\"Scorul BLEU:\", bleu.score)"
   ]
  }
 ],
 "metadata": {
  "kernelspec": {
   "display_name": "Python 3 (ipykernel)",
   "language": "python",
   "name": "python3"
  },
  "language_info": {
   "codemirror_mode": {
    "name": "ipython",
    "version": 3
   },
   "file_extension": ".py",
   "mimetype": "text/x-python",
   "name": "python",
   "nbconvert_exporter": "python",
   "pygments_lexer": "ipython3",
   "version": "3.12.3"
  }
 },
 "nbformat": 4,
 "nbformat_minor": 5
}
