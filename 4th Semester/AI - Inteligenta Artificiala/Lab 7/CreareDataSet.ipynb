{
 "cells": [
  {
   "cell_type": "code",
   "execution_count": 27,
   "id": "6611f0be-d67a-4070-8ddd-85f85236ca9c",
   "metadata": {},
   "outputs": [],
   "source": [
    "import os\n",
    "from PIL import Image, ImageOps\n",
    "import numpy as np\n",
    "import random"
   ]
  },
  {
   "cell_type": "code",
   "execution_count": 28,
   "id": "39bcc06d-962c-4475-a4b0-49e44487b267",
   "metadata": {},
   "outputs": [],
   "source": [
    "def convert_directory_images_to_sepia(input_dir: str, output_dir_normalized: str, output_dir_sepia: str, target_size=(64, 64)):\n",
    "    sepia_counter = 0\n",
    "\n",
    "    for filename in os.listdir(input_dir):\n",
    "        if filename.endswith('.jpg'):\n",
    "            img_path = os.path.join(input_dir, filename)\n",
    "            img = Image.open(img_path)\n",
    "            \n",
    "            apply_sepia = random.random() < (NUM_SEP_IA / 2000)\n",
    "\n",
    "            img = img.resize(target_size)\n",
    "            img = img.convert('RGB')\n",
    "\n",
    "\n",
    "            img_array = np.array(img)\n",
    "            normalized_img = img_array / 255.0\n",
    "\n",
    "            if apply_sepia and sepia_counter < NUM_SEP_IA:\n",
    "                sepia_img = ImageOps.grayscale(img)\n",
    "                sepia_img = ImageOps.colorize(sepia_img, (100, 60, 20), (240, 200, 160))\n",
    "                sepia_img_path = os.path.join(output_dir_sepia, filename)\n",
    "                sepia_img.save(sepia_img_path, format='JPEG')\n",
    "                sepia_counter += 1\n",
    "            else:\n",
    "                # Save normalized image\n",
    "                normalized_img_path = os.path.join(output_dir_normalized, filename)\n",
    "                normalized_img = Image.fromarray((normalized_img * 255).astype(np.uint8))\n",
    "                normalized_img = normalized_img.resize(target_size)\n",
    "                normalized_img.save(normalized_img_path, format='JPEG')\n",
    "\n",
    "\n",
    "input_folder = 'D:/FACULTATE/SEM4/AI/Lab7/DataSet'\n",
    "output_folder_normalized = 'D:/FACULTATE/SEM4/AI/Lab7/img_normalizate'\n",
    "output_folder_sepia = 'D:/FACULTATE/SEM4/AI/Lab7/img_sepia'\n",
    "\n",
    "os.makedirs(output_folder_normalized, exist_ok=True)\n",
    "os.makedirs(output_folder_sepia, exist_ok=True)\n",
    "\n",
    "#Normalizez toate imaginile ca să poată să fie folosite pentru un model de antrenare\n",
    "# la 1000 de imagini aplic filtrul sepia\n",
    "convert_directory_images_to_sepia(input_folder, output_folder_normalized, output_folder_sepia)"
   ]
  },
  {
   "cell_type": "code",
   "execution_count": 29,
   "id": "844601ce-dd89-468d-b332-ccc67a9ea90e",
   "metadata": {},
   "outputs": [],
   "source": [
    "def rename_images(input_dir: str, suffix: str):\n",
    "    for filename in os.listdir(input_dir):\n",
    "        if filename.endswith('.jpg'):\n",
    "            old_path = os.path.join(input_dir, filename)\n",
    "            new_filename = filename.replace('.jpg', f'_{suffix}.jpg')\n",
    "            new_path = os.path.join(input_dir, new_filename)\n",
    "            os.rename(old_path, new_path)\n",
    "\n",
    "# Redenumește imaginile din folderul cu imagini normalizate\n",
    "rename_images(output_folder_normalized, 'normalized')\n",
    "\n",
    "# Redenumește imaginile din folderul cu imagini sepia\n",
    "rename_images(output_folder_sepia, 'sepia')"
   ]
  }
 ],
 "metadata": {
  "kernelspec": {
   "display_name": "Python 3 (ipykernel)",
   "language": "python",
   "name": "python3"
  },
  "language_info": {
   "codemirror_mode": {
    "name": "ipython",
    "version": 3
   },
   "file_extension": ".py",
   "mimetype": "text/x-python",
   "name": "python",
   "nbconvert_exporter": "python",
   "pygments_lexer": "ipython3",
   "version": "3.12.3"
  }
 },
 "nbformat": 4,
 "nbformat_minor": 5
}
